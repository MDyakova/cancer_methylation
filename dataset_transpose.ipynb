{
 "cells": [
  {
   "cell_type": "code",
   "execution_count": null,
   "id": "61d8452d",
   "metadata": {},
   "outputs": [],
   "source": [
    "import os\n",
    "import numpy as np\n",
    "\n",
    "from pyspark.sql import SparkSession\n",
    "from pyspark.sql.functions import monotonically_increasing_id\n",
    "from pyspark.sql.functions import col\n",
    "from pyspark.sql.functions import udf\n",
    "from pyspark.sql.functions import array\n",
    "from pyspark.sql.types import FloatType\n",
    "from pyspark.sql.functions import expr\n",
    "\n",
    "from utilities import save_dataset"
   ]
  },
  {
   "cell_type": "code",
   "execution_count": null,
   "id": "a0e3743f",
   "metadata": {},
   "outputs": [],
   "source": [
    "WORK_DIRECTORY = \"data\"\n",
    "DATA_FILE_NAME = \"leukemia_met\"\n",
    "DATA_FILE_NAME_NEW = \"leukemia_met_trans\""
   ]
  },
  {
   "cell_type": "code",
   "execution_count": null,
   "id": "a2abec16",
   "metadata": {},
   "outputs": [],
   "source": [
    "# create spark session\n",
    "spark = (\n",
    "    SparkSession.builder.master(\"local\")\n",
    "    .appName(\"Colab\")\n",
    "    .config(\"spark.driver.memory\", \"32g\")\n",
    "    .config(\"spark.executor.cores\", \"1\")\n",
    "    .config(\"spark.cores.max\", \"1\")\n",
    "    .config(\"spark.memory.offHeap.enabled\", \"true\")\n",
    "    .config(\"spark.memory.offHeap.size\", \"100g\")\n",
    "    .config(\"spark.sparkContext.setLogLevel\", \"ERROR\")\n",
    "    .getOrCreate()\n",
    ")\n",
    "\n",
    "spark.conf.set(\"spark.sql.pivotMaxValues\", 500000)"
   ]
  },
  {
   "cell_type": "code",
   "execution_count": null,
   "id": "5569d1ca",
   "metadata": {},
   "outputs": [],
   "source": [
    "# create spark dataframe\n",
    "df = spark.read.csv(\n",
    "    os.path.join(WORK_DIRECTORY, DATA_FILE_NAME),\n",
    "    header=True,\n",
    "    inferSchema=True,\n",
    "    sep=\";\",\n",
    ")"
   ]
  },
  {
   "cell_type": "code",
   "execution_count": null,
   "id": "771b1469",
   "metadata": {},
   "outputs": [],
   "source": [
    "class DataTranspose:\n",
    "    \"\"\"\n",
    "    Class transform data {index:methylation_site, col:sample_id}\n",
    "            to data {index:sample_id, cols:methylation_site}.\n",
    "\n",
    "    Methods:\n",
    "    1. unpivot_data: method transform 2D dataset to 1D dataset.\n",
    "    2. pivot_data: method transform 1D dataset to 2D dataset.\n",
    "\n",
    "    \"\"\"\n",
    "\n",
    "    def __init__(self, data):\n",
    "        self.data = data\n",
    "        self.columns = data.columns[1:-1]\n",
    "\n",
    "    def unpivot_data(self):\n",
    "        cols_expr = \", \".join([\"\".join([\"'\", col, \"', \", col]) for col in self.columns])\n",
    "        unpivotExpr = \"\".join(\n",
    "            [\"stack(\", str(len(self.columns)), \", \", cols_expr, \") as (s,v)\"]\n",
    "        )\n",
    "        self.data = self.data.select(\"sample_id\", expr(unpivotExpr)).where(\n",
    "            \"v is not null\"\n",
    "        )\n",
    "        self.data = self.data.withColumn(\"v\", self.data.v.cast(\"double\"))\n",
    "\n",
    "    def pivot_data(self):\n",
    "        self.data = self.data.groupBy(\"s\").pivot(\"sample_id\").max(\"v\")"
   ]
  },
  {
   "cell_type": "code",
   "execution_count": null,
   "id": "c1d6a60f",
   "metadata": {},
   "outputs": [],
   "source": [
    "# transform data\n",
    "data_tr = DataTranspose(df)\n",
    "data_tr.unpivot_data()\n",
    "data_tr.pivot_data()"
   ]
  },
  {
   "cell_type": "code",
   "execution_count": null,
   "id": "a24e79f8",
   "metadata": {},
   "outputs": [],
   "source": [
    "# get transformed dataset\n",
    "df = data_tr.data"
   ]
  },
  {
   "cell_type": "code",
   "execution_count": null,
   "id": "2fdf88c3",
   "metadata": {},
   "outputs": [],
   "source": [
    "# save the dataset to CSV\n",
    "save_dataset(df, os.path.join(WORK_DIRECTORY, DATA_FILE_NAME_NEW))"
   ]
  },
  {
   "cell_type": "code",
   "execution_count": null,
   "id": "2610b95b",
   "metadata": {},
   "outputs": [],
   "source": []
  }
 ],
 "metadata": {
  "kernelspec": {
   "display_name": "Python 3 (ipykernel)",
   "language": "python",
   "name": "python3"
  },
  "language_info": {
   "codemirror_mode": {
    "name": "ipython",
    "version": 3
   },
   "file_extension": ".py",
   "mimetype": "text/x-python",
   "name": "python",
   "nbconvert_exporter": "python",
   "pygments_lexer": "ipython3",
   "version": "3.8.10"
  }
 },
 "nbformat": 4,
 "nbformat_minor": 5
}
