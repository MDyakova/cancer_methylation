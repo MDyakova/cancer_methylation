{
 "cells": [
  {
   "cell_type": "code",
   "execution_count": 1,
   "id": "61d8452d",
   "metadata": {},
   "outputs": [],
   "source": [
    "import os\n",
    "\n",
    "from pyspark.sql import SparkSession\n",
    "from pyspark.sql.functions import expr\n",
    "\n",
    "from utilities import save_dataset"
   ]
  },
  {
   "cell_type": "code",
   "execution_count": 2,
   "id": "a0e3743f",
   "metadata": {},
   "outputs": [],
   "source": [
    "WORK_DIRECTORY = \"data\"\n",
    "DATA_FILE_NAME = \"leukemia_met\"\n",
    "DATA_FILE_NAME_NEW = \"leukemia_met_trans\""
   ]
  },
  {
   "cell_type": "code",
   "execution_count": 3,
   "id": "a2abec16",
   "metadata": {},
   "outputs": [
    {
     "name": "stdout",
     "output_type": "stream",
     "text": [
      "23/02/18 17:20:30 WARN Utils: Your hostname, maria-HP-EliteBook-840-G8-Notebook-PC resolves to a loopback address: 127.0.1.1; using 192.168.1.160 instead (on interface wlp0s20f3)\n",
      "23/02/18 17:20:30 WARN Utils: Set SPARK_LOCAL_IP if you need to bind to another address\n"
     ]
    },
    {
     "name": "stderr",
     "output_type": "stream",
     "text": [
      "Setting default log level to \"WARN\".\n",
      "To adjust logging level use sc.setLogLevel(newLevel). For SparkR, use setLogLevel(newLevel).\n"
     ]
    },
    {
     "name": "stdout",
     "output_type": "stream",
     "text": [
      "23/02/18 17:20:30 WARN NativeCodeLoader: Unable to load native-hadoop library for your platform... using builtin-java classes where applicable\n"
     ]
    }
   ],
   "source": [
    "# create spark session\n",
    "spark = (\n",
    "    SparkSession.builder.master(\"local\")\n",
    "    .appName(\"Colab\")\n",
    "    .config(\"spark.driver.memory\", \"32g\")\n",
    "    .config(\"spark.executor.cores\", \"1\")\n",
    "    .config(\"spark.cores.max\", \"1\")\n",
    "    .config(\"spark.memory.offHeap.enabled\", \"true\")\n",
    "    .config(\"spark.memory.offHeap.size\", \"100g\")\n",
    "    .config(\"spark.sparkContext.setLogLevel\", \"ERROR\")\n",
    "    .getOrCreate()\n",
    ")\n",
    "\n",
    "spark.conf.set(\"spark.sql.pivotMaxValues\", 500000)"
   ]
  },
  {
   "cell_type": "code",
   "execution_count": 4,
   "id": "5569d1ca",
   "metadata": {},
   "outputs": [
    {
     "name": "stderr",
     "output_type": "stream",
     "text": [
      "                                                                                \r"
     ]
    }
   ],
   "source": [
    "# create spark dataframe\n",
    "df = spark.read.csv(\n",
    "    os.path.join(WORK_DIRECTORY, DATA_FILE_NAME),\n",
    "    header=True,\n",
    "    inferSchema=True,\n",
    "    sep=\";\",\n",
    ")"
   ]
  },
  {
   "cell_type": "code",
   "execution_count": 7,
   "id": "771b1469",
   "metadata": {},
   "outputs": [],
   "source": [
    "class DataTranspose:\n",
    "    \"\"\"\n",
    "    Class transform data {index:methylation_site, col:sample_id}\n",
    "            to data {index:sample_id, cols:methylation_site}.\n",
    "\n",
    "    Methods:\n",
    "    1. unpivot_data: method transform 2D dataset to 1D dataset.\n",
    "    2. pivot_data: method transform 1D dataset to 2D dataset.\n",
    "\n",
    "    \"\"\"\n",
    "\n",
    "    def __init__(self, data):\n",
    "        self.data = data\n",
    "        self.columns = data.columns[1:-1]\n",
    "\n",
    "    def unpivot_data(self):\n",
    "        cols_expr = \", \".join([\"\".join(\n",
    "            [\"'\", col, \"', \", col]) for col in self.columns])\n",
    "        unpivotExpr = \"\".join(\n",
    "            [\"stack(\", str(len(self.columns)), \", \", cols_expr, \") as (s,v)\"]\n",
    "        )\n",
    "        self.data = self.data.select(\"sample_id\", expr(unpivotExpr)).where(\n",
    "            \"v is not null\"\n",
    "        )\n",
    "        self.data = self.data.withColumn(\"v\", self.data.v.cast(\"double\"))\n",
    "\n",
    "    def pivot_data(self):\n",
    "        self.data = self.data.groupBy(\"s\").pivot(\"sample_id\").max(\"v\")\n",
    "        \n",
    "    def col_rename(self):\n",
    "        new_columns = [col.replace(\".\", \"\") for col in self.data.columns]\n",
    "        self.data = self.data.toDF(*new_columns)"
   ]
  },
  {
   "cell_type": "code",
   "execution_count": 8,
   "id": "c1d6a60f",
   "metadata": {},
   "outputs": [
    {
     "name": "stderr",
     "output_type": "stream",
     "text": [
      "                                                                                \r"
     ]
    }
   ],
   "source": [
    "# transform data\n",
    "data_tr = DataTranspose(df)\n",
    "data_tr.unpivot_data()\n",
    "data_tr.pivot_data()\n",
    "data_tr.col_rename()"
   ]
  },
  {
   "cell_type": "code",
   "execution_count": 9,
   "id": "a24e79f8",
   "metadata": {},
   "outputs": [],
   "source": [
    "# get transformed dataset\n",
    "df = data_tr.data"
   ]
  },
  {
   "cell_type": "code",
   "execution_count": 10,
   "id": "2fdf88c3",
   "metadata": {},
   "outputs": [
    {
     "name": "stderr",
     "output_type": "stream",
     "text": [
      "[Stage 18:===========================================>              (3 + 1) / 4]\r"
     ]
    },
    {
     "name": "stdout",
     "output_type": "stream",
     "text": [
      "23/02/18 17:04:54 WARN DAGScheduler: Broadcasting large task binary with size 22.0 MiB\n"
     ]
    },
    {
     "name": "stderr",
     "output_type": "stream",
     "text": [
      "[Stage 23:>                                                        (0 + 0) / 15]\r"
     ]
    },
    {
     "name": "stdout",
     "output_type": "stream",
     "text": [
      "23/02/18 17:11:47 WARN DAGScheduler: Broadcasting large task binary with size 81.5 MiB\n"
     ]
    },
    {
     "name": "stderr",
     "output_type": "stream",
     "text": [
      "[Stage 23:====================================================>   (14 + 1) / 15]\r"
     ]
    },
    {
     "name": "stdout",
     "output_type": "stream",
     "text": [
      "23/02/18 17:18:47 WARN DAGScheduler: Broadcasting large task binary with size 6.1 MiB\n"
     ]
    },
    {
     "name": "stderr",
     "output_type": "stream",
     "text": [
      "                                                                                \r"
     ]
    }
   ],
   "source": [
    "# save the dataset to CSV\n",
    "save_dataset(df, os.path.join(WORK_DIRECTORY, DATA_FILE_NAME_NEW))"
   ]
  },
  {
   "cell_type": "code",
   "execution_count": null,
   "id": "2610b95b",
   "metadata": {},
   "outputs": [],
   "source": []
  }
 ],
 "metadata": {
  "kernelspec": {
   "display_name": "Python 3 (ipykernel)",
   "language": "python",
   "name": "python3"
  },
  "language_info": {
   "codemirror_mode": {
    "name": "ipython",
    "version": 3
   },
   "file_extension": ".py",
   "mimetype": "text/x-python",
   "name": "python",
   "nbconvert_exporter": "python",
   "pygments_lexer": "ipython3",
   "version": "3.8.10"
  }
 },
 "nbformat": 4,
 "nbformat_minor": 5
}
